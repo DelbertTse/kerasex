{
 "cells": [
  {
   "cell_type": "code",
   "execution_count": 1,
   "metadata": {
    "collapsed": true
   },
   "outputs": [],
   "source": [
    "import numpy as np"
   ]
  },
  {
   "cell_type": "code",
   "execution_count": 2,
   "metadata": {},
   "outputs": [
    {
     "name": "stderr",
     "output_type": "stream",
     "text": [
      "/home/ithcx/anaconda3/lib/python3.6/site-packages/h5py/__init__.py:36: FutureWarning: Conversion of the second argument of issubdtype from `float` to `np.floating` is deprecated. In future, it will be treated as `np.float64 == np.dtype(float).type`.\n",
      "  from ._conv import register_converters as _register_converters\n",
      "Using TensorFlow backend.\n"
     ]
    }
   ],
   "source": [
    "import tensorflow as tf\n",
    "import keras"
   ]
  },
  {
   "cell_type": "code",
   "execution_count": 3,
   "metadata": {},
   "outputs": [],
   "source": [
    "np.random.seed(1337)"
   ]
  },
  {
   "cell_type": "code",
   "execution_count": 4,
   "metadata": {},
   "outputs": [],
   "source": [
    "import matplotlib.pyplot as plt\n",
    "X = np.linspace(-1,1,200)\n",
    "np.random.shuffle(X)\n",
    "Y = 0.5 * X + 2 + np.random.normal(0,0.05,(200,))\n",
    "plt.scatter(X,Y)\n",
    "plt.show()"
   ]
  },
  {
   "cell_type": "code",
   "execution_count": 5,
   "metadata": {},
   "outputs": [],
   "source": [
    "from keras.models import Sequential\n",
    "from keras.layers import Dense"
   ]
  },
  {
   "cell_type": "code",
   "execution_count": 6,
   "metadata": {},
   "outputs": [],
   "source": [
    "X_train,Y_train = X[:160],Y[:160]\n",
    "X_test,Y_test = X[160:],Y[160:]"
   ]
  },
  {
   "cell_type": "code",
   "execution_count": 7,
   "metadata": {},
   "outputs": [
    {
     "name": "stderr",
     "output_type": "stream",
     "text": [
      "/home/ithcx/anaconda3/lib/python3.6/site-packages/ipykernel_launcher.py:3: UserWarning: Update your `Dense` call to the Keras 2 API: `Dense(input_dim=1, units=1)`\n",
      "  This is separate from the ipykernel package so we can avoid doing imports until\n"
     ]
    }
   ],
   "source": [
    "#build model\n",
    "model = Sequential()\n",
    "model.add(Dense(output_dim = 1,input_dim=1))\n",
    "# model.add(Dense(output_dim = ))"
   ]
  },
  {
   "cell_type": "code",
   "execution_count": 8,
   "metadata": {},
   "outputs": [],
   "source": [
    "model.compile(loss=\"mse\",optimizer=\"sgd\")"
   ]
  },
  {
   "cell_type": "code",
   "execution_count": 9,
   "metadata": {
    "collapsed": true
   },
   "outputs": [
    {
     "name": "stdout",
     "output_type": "stream",
     "text": [
      "-------------training-------------\n",
      "train cost: 4.0225\n",
      "train cost: 0.07323855\n",
      "train cost: 0.0038627305\n",
      "train cost: 0.0026434488\n"
     ]
    }
   ],
   "source": [
    "#training\n",
    "print(\"-------------training-------------\")\n",
    "for step in range(301):\n",
    "\tcost = model.train_on_batch(X_train,Y_train)\n",
    "\tif step % 100 ==0:\n",
    "\t\tprint(\"train cost:\",cost)"
   ]
  },
  {
   "cell_type": "code",
   "execution_count": 10,
   "metadata": {},
   "outputs": [
    {
     "name": "stdout",
     "output_type": "stream",
     "text": [
      "\n",
      "Testing-------------------------\n",
      "40/40 [==============================] - 0s 311us/step\n",
      "test cost: 0.003136708866804838\n",
      "Weight =  [[0.4922711]] \n",
      "bias =  [1.9995023]\n"
     ]
    }
   ],
   "source": [
    "#test\n",
    "print(\"\\nTesting-------------------------\")\n",
    "cost = model.evaluate(X_test,Y_test,batch_size=40)\n",
    "print(\"test cost:\",cost)\n",
    "W,b = model.layers[0].get_weights()\n",
    "print(\"Weight = \",W,\"\\nbias = \",b)"
   ]
  },
  {
   "cell_type": "code",
   "execution_count": 11,
   "metadata": {},
   "outputs": [],
   "source": [
    "#plot prediction\n",
    "Y_pred = model.predict(X_test)\n",
    "plt.scatter(X_test,Y_test)\n",
    "plt.plot(X_test,Y_pred)\n",
    "plt.show()"
   ]
  },
  {
   "cell_type": "code",
   "execution_count": 1,
   "metadata": {},
   "outputs": [
    {
     "name": "stderr",
     "output_type": "stream",
     "text": [
      "/home/ithcx/anaconda3/lib/python3.6/site-packages/h5py/__init__.py:36: FutureWarning: Conversion of the second argument of issubdtype from `float` to `np.floating` is deprecated. In future, it will be treated as `np.float64 == np.dtype(float).type`.\n",
      "  from ._conv import register_converters as _register_converters\n",
      "Using TensorFlow backend.\n"
     ]
    }
   ],
   "source": [
    "from keras.datasets import mnist\n",
    "from keras.utils import np_utils\n",
    "from keras.models import Sequential\n",
    "from keras.layers import Dense,Activation\n",
    "from keras.optimizers import RMSprop"
   ]
  },
  {
   "cell_type": "code",
   "execution_count": 2,
   "metadata": {},
   "outputs": [],
   "source": [
    "(X_train,y_train),(X_test,y_test) = mnist.load_data()"
   ]
  },
  {
   "cell_type": "code",
   "execution_count": 4,
   "metadata": {
    "collapsed": true
   },
   "outputs": [],
   "source": [
    "#data pre_processing\n",
    "X_train = X_train.reshape(X_train.shape[0],-1)/255\n",
    "X_test = X_test.reshape(X_test.shape[0],-1)/255\n",
    "y_train = np_utils.to_categorical(y_train,num_classes=10)\n",
    "y_test = np_utils.to_categorical(y_test,num_classes = 10)"
   ]
  },
  {
   "cell_type": "code",
   "execution_count": 6,
   "metadata": {},
   "outputs": [
    {
     "name": "stdout",
     "output_type": "stream",
     "text": [
      "(60000, 784) (60000, 10)\n"
     ]
    }
   ],
   "source": [
    "print(X_train.shape,y_train.shape)"
   ]
  },
  {
   "cell_type": "code",
   "execution_count": 7,
   "metadata": {},
   "outputs": [],
   "source": [
    "model = Sequential(\n",
    "\t[\n",
    "\t\tDense(32,input_dim=784),\n",
    "\t\tActivation('relu'),\n",
    "\t\tDense(10),\n",
    "\t\tActivation(\"softmax\")\n",
    "\t]\n",
    ")"
   ]
  },
  {
   "cell_type": "code",
   "execution_count": 8,
   "metadata": {},
   "outputs": [],
   "source": [
    "rmsprop = RMSprop(lr=0.001,rho=0.9,epsilon=1e-08,decay=0.0)"
   ]
  },
  {
   "cell_type": "code",
   "execution_count": 10,
   "metadata": {},
   "outputs": [
    {
     "name": "stdout",
     "output_type": "stream",
     "text": [
      "-------------------------------------------------- training --------------------------------------------------\n",
      "Epoch 1/2\n",
      "60000/60000 [==============================] - 6s 104us/step - loss: 1.6994 - acc: 0.5292\n",
      "Epoch 2/2\n",
      "60000/60000 [==============================] - 5s 91us/step - loss: 0.8508 - acc: 0.7873\n"
     ]
    },
    {
     "data": {
      "text/plain": [
       "<keras.callbacks.History at 0x7f85abc7f9b0>"
      ]
     },
     "execution_count": 10,
     "metadata": {},
     "output_type": "execute_result"
    }
   ],
   "source": [
    "model.compile(optimizer=rmsprop,loss='categorical_crossentropy',metrics=['accuracy'])\n",
    "print('-'*50,\"training\",'-'*50)\n",
    "model.fit(X_train,y_train,epochs=2,batch_size=32)"
   ]
  },
  {
   "cell_type": "code",
   "execution_count": 13,
   "metadata": {},
   "outputs": [
    {
     "name": "stdout",
     "output_type": "stream",
     "text": [
      "-------------------------------------------------- testing --------------------------------------------------\n",
      "10000/10000 [==============================] - 1s 52us/step\n"
     ]
    }
   ],
   "source": [
    "print('-'*50,\"testing\",'-'*50)\n",
    "loss,accuracy = model.evaluate(X_test,y_test)"
   ]
  },
  {
   "cell_type": "code",
   "execution_count": 14,
   "metadata": {},
   "outputs": [
    {
     "name": "stdout",
     "output_type": "stream",
     "text": [
      "test loss: 0.6613146055221557\n",
      "test accuracy 0.8375\n"
     ]
    }
   ],
   "source": [
    "print(\"test loss:\",loss)\n",
    "print(\"test accuracy\",accuracy)"
   ]
  },
  {
   "cell_type": "code",
   "execution_count": 2,
   "metadata": {},
   "outputs": [
    {
     "name": "stderr",
     "output_type": "stream",
     "text": [
      "/home/ithcx/anaconda3/lib/python3.6/site-packages/h5py/__init__.py:36: FutureWarning: Conversion of the second argument of issubdtype from `float` to `np.floating` is deprecated. In future, it will be treated as `np.float64 == np.dtype(float).type`.\n",
      "  from ._conv import register_converters as _register_converters\n",
      "Using TensorFlow backend.\n"
     ]
    }
   ],
   "source": [
    "import numpy as np\n",
    "np.random.seed(1337)\n",
    "from keras.datasets import mnist\n",
    "from keras.utils import np_utils\n",
    "from keras.models import Sequential\n",
    "from keras.layers import Dense,Activation,Convolution2D,MaxPooling2D,Flatten \n",
    "from keras.optimizers import Adam"
   ]
  },
  {
   "cell_type": "code",
   "execution_count": 3,
   "metadata": {},
   "outputs": [],
   "source": [
    "(X_train,y_train),(X_test,y_test) = mnist.load_data()"
   ]
  },
  {
   "cell_type": "code",
   "execution_count": 4,
   "metadata": {},
   "outputs": [],
   "source": [
    "X_train = X_train.reshape(-1,1,28,28)\n",
    "X_test = X_test.reshape(-1,1,28,28)\n",
    "y_train = np_utils.to_categorical(y_train,10)\n",
    "y_test = np_utils.to_categorical(y_test,10)"
   ]
  },
  {
   "cell_type": "code",
   "execution_count": 5,
   "metadata": {},
   "outputs": [],
   "source": [
    "model = Sequential()"
   ]
  },
  {
   "cell_type": "code",
   "execution_count": 10,
   "metadata": {},
   "outputs": [],
   "source": [
    "#conv1 output_shape(32,28,28)\n",
    "model.add(\n",
    "\tConvolution2D(\n",
    "\t\tfilters=32,\n",
    "\t\tkernel_size= 5,\n",
    "\t\tpadding=\"same\",\n",
    "\t\tinput_shape=(1,28,28),\n",
    "\t)\n",
    ")\n",
    "model.add(Activation('relu'))"
   ]
  },
  {
   "cell_type": "code",
   "execution_count": 12,
   "metadata": {},
   "outputs": [],
   "source": [
    "#pooling layer\n",
    "model.add(\n",
    "\tMaxPooling2D(\n",
    "\t\tpool_size=(2,2),\n",
    "\t\tstrides=(2,2),\n",
    "\t\tpadding= \"same\"\n",
    "\t)\n",
    ")"
   ]
  },
  {
   "cell_type": "code",
   "execution_count": 13,
   "metadata": {},
   "outputs": [],
   "source": [
    "#conv2 (64,14,14)\n",
    "model.add(\n",
    "\tConvolution2D(\n",
    "\t\tfilters=64,\n",
    "\t\tkernel_size=5,\n",
    "\t\tpadding='same'\n",
    "\t)\n",
    ")\n",
    "model.add(Activation(\"relu\"))"
   ]
  },
  {
   "cell_type": "code",
   "execution_count": 14,
   "metadata": {},
   "outputs": [],
   "source": [
    "#pooling2\n",
    "model.add(MaxPooling2D(\n",
    "\tpool_size=(2,2),\n",
    "\tpadding=\"same\"\n",
    "))"
   ]
  },
  {
   "cell_type": "code",
   "execution_count": 15,
   "metadata": {},
   "outputs": [],
   "source": [
    "#full connected input_shape(64*7*7),output_shape(1024)\n",
    "model.add(Flatten())"
   ]
  },
  {
   "cell_type": "code",
   "execution_count": 16,
   "metadata": {},
   "outputs": [],
   "source": [
    "model.add(Dense(1024))\n",
    "model.add(Activation(\"relu\"))"
   ]
  },
  {
   "cell_type": "code",
   "execution_count": 17,
   "metadata": {},
   "outputs": [],
   "source": [
    "model.add(Dense(10))\n",
    "model.add(Activation(\"softmax\"))"
   ]
  },
  {
   "cell_type": "code",
   "execution_count": 18,
   "metadata": {},
   "outputs": [],
   "source": [
    "optimizer = Adam(lr=1e-4)"
   ]
  },
  {
   "cell_type": "code",
   "execution_count": 19,
   "metadata": {},
   "outputs": [],
   "source": [
    "model.compile(optimizer=optimizer,\n",
    "              loss=\"categorical_crossentropy\",\n",
    "              metrics=['accuracy'])"
   ]
  },
  {
   "cell_type": "code",
   "execution_count": 20,
   "metadata": {},
   "outputs": [
    {
     "name": "stdout",
     "output_type": "stream",
     "text": [
      "-------------------------------------------------- training --------------------------------------------------\n",
      "Epoch 1/3\n",
      "60000/60000 [==============================] - 14s 241us/step - loss: 0.2233 - acc: 0.9314\n",
      "Epoch 2/3\n",
      "60000/60000 [==============================] - 10s 168us/step - loss: 0.0757 - acc: 0.9765\n",
      "Epoch 3/3\n",
      "60000/60000 [==============================] - 10s 167us/step - loss: 0.0500 - acc: 0.9840\n"
     ]
    },
    {
     "data": {
      "text/plain": [
       "<keras.callbacks.History at 0x7f8a569e2c50>"
      ]
     },
     "execution_count": 20,
     "metadata": {},
     "output_type": "execute_result"
    }
   ],
   "source": [
    "print('-'*50,'training','-'*50)\n",
    "model.fit(X_train,y_train,batch_size=32,epochs=3)"
   ]
  },
  {
   "cell_type": "code",
   "execution_count": 21,
   "metadata": {},
   "outputs": [
    {
     "name": "stdout",
     "output_type": "stream",
     "text": [
      "-------------------------------------------------- testing --------------------------------------------------\n",
      "10000/10000 [==============================] - 1s 56us/step\n"
     ]
    }
   ],
   "source": [
    "print('-'*50,'testing','-'*50)\n",
    "loss,accuracy = model.evaluate(X_test,y_test)"
   ]
  },
  {
   "cell_type": "code",
   "execution_count": 22,
   "metadata": {},
   "outputs": [
    {
     "name": "stdout",
     "output_type": "stream",
     "text": [
      "test loss: 0.06164430009126663\n",
      "test accuracy: 0.9795\n"
     ]
    }
   ],
   "source": [
    "print('test loss:',loss)\n",
    "print(\"test accuracy:\",accuracy)"
   ]
  },
  {
   "cell_type": "code",
   "execution_count": 1,
   "metadata": {},
   "outputs": [
    {
     "name": "stderr",
     "output_type": "stream",
     "text": [
      "/home/ithcx/anaconda3/lib/python3.6/site-packages/h5py/__init__.py:36: FutureWarning: Conversion of the second argument of issubdtype from `float` to `np.floating` is deprecated. In future, it will be treated as `np.float64 == np.dtype(float).type`.\n",
      "  from ._conv import register_converters as _register_converters\n",
      "Using TensorFlow backend.\n"
     ]
    }
   ],
   "source": [
    "import numpy as np\n",
    "np.random.seed(1337)\n",
    "from keras.datasets import mnist\n",
    "from keras.utils import np_utils\n",
    "from keras.models import Sequential\n",
    "from keras.layers import LSTM,Activation,Dense,SimpleRNN\n",
    "from keras.optimizers import Adam"
   ]
  },
  {
   "cell_type": "code",
   "execution_count": 2,
   "metadata": {},
   "outputs": [],
   "source": [
    "TIME_STEPS = 28 #height of image\n",
    "INPUT_SIZE = 28 #width of image\n",
    "BATCH_SIZE = 50 \n",
    "BATCH_INDEX = 0 #generate output\n",
    "OUTPUT_SIZE = 10 # 10 class\n",
    "CELL_SIZE = 50 #hidden unit\n",
    "LR = 0.001"
   ]
  },
  {
   "cell_type": "code",
   "execution_count": 3,
   "metadata": {},
   "outputs": [],
   "source": [
    "(X_train,y_train),(X_test,y_test) = mnist.load_data()"
   ]
  },
  {
   "cell_type": "code",
   "execution_count": 4,
   "metadata": {},
   "outputs": [
    {
     "name": "stdout",
     "output_type": "stream",
     "text": [
      "(10000, 28, 28) (10000, 10)\n",
      "(60000, 28, 28) (60000, 10)\n"
     ]
    }
   ],
   "source": [
    "X_train = X_train.reshape(-1,28,28)/255\n",
    "X_test = X_test.reshape(-1,28,28)/255\n",
    "y_train = np_utils.to_categorical(y_train,num_classes=10)\n",
    "y_test = np_utils.to_categorical(y_test,num_classes=10)\n",
    "print(X_test.shape,y_test.shape)\n",
    "print(X_train.shape,y_train.shape)"
   ]
  },
  {
   "cell_type": "code",
   "execution_count": 5,
   "metadata": {},
   "outputs": [],
   "source": [
    "model = Sequential()"
   ]
  },
  {
   "cell_type": "code",
   "execution_count": 6,
   "metadata": {},
   "outputs": [],
   "source": [
    "# model.add(LSTM(units= CELL_SIZE,\n",
    "#                     batch_input_shape=(BATCH_SIZE,TIME_STEPS,INPUT_SIZE)\n",
    "#                     ))\n",
    "# model.add(Dense(OUTPUT_SIZE))\n",
    "# model.add(Activation('softmax'))"
   ]
  },
  {
   "cell_type": "code",
   "execution_count": 7,
   "metadata": {},
   "outputs": [],
   "source": [
    "model.add(SimpleRNN(units= CELL_SIZE,\n",
    "                    batch_input_shape=(BATCH_SIZE,TIME_STEPS,INPUT_SIZE)\n",
    "                    ))\n",
    "model.add(Dense(OUTPUT_SIZE))\n",
    "model.add(Activation('softmax'))"
   ]
  },
  {
   "cell_type": "code",
   "execution_count": 8,
   "metadata": {},
   "outputs": [],
   "source": [
    "optimizer = Adam()\n",
    "model.compile(optimizer=optimizer,loss='categorical_crossentropy',metrics=['accuracy'])"
   ]
  },
  {
   "cell_type": "code",
   "execution_count": 10,
   "metadata": {},
   "outputs": [
    {
     "name": "stdout",
     "output_type": "stream",
     "text": [
      "test cost:  2.388428622484207 test accuracy:  0.03799999924376607\n",
      "test cost:  0.6461064199358225 test accuracy:  0.8018999990820884\n",
      "test cost:  0.462818779964 test accuracy:  0.8613999974727631\n",
      "test cost:  0.39118413750082254 test accuracy:  0.8851999959349632\n",
      "test cost:  0.34352968249469995 test accuracy:  0.9022999978065491\n",
      "test cost:  0.24973251366987825 test accuracy:  0.9291999983787537\n",
      "test cost:  0.294933997746557 test accuracy:  0.9152999970316887\n",
      "test cost:  0.22469138814136386 test accuracy:  0.9361999979615212\n",
      "test cost:  0.2102251020958647 test accuracy:  0.9396999984979629\n"
     ]
    }
   ],
   "source": [
    "for step in range(4001):\n",
    "    # data shape = (batch_num, steps, inputs/outputs)\n",
    "    X_batch = X_train[BATCH_INDEX: BATCH_INDEX+BATCH_SIZE, :, :]\n",
    "    Y_batch = y_train[BATCH_INDEX: BATCH_INDEX+BATCH_SIZE, :]\n",
    "    cost = model.train_on_batch(X_batch, Y_batch)\n",
    "    BATCH_INDEX += BATCH_SIZE\n",
    "    BATCH_INDEX = 0 if BATCH_INDEX >= X_train.shape[0] else BATCH_INDEX\n",
    "\n",
    "    if step % 500 == 0:\n",
    "        cost, accuracy = model.evaluate(X_test, y_test, batch_size=BATCH_SIZE, verbose=False)\n",
    "        print('test cost: ', cost, 'test accuracy: ', accuracy)"
   ]
  },
  {
   "cell_type": "code",
   "execution_count": 9,
   "metadata": {},
   "outputs": [],
   "source": [
    "import numpy as np\n",
    "np.random.seed(1337)\n",
    "import matplotlib.pyplot as plt\n",
    "from keras.models import Sequential\n",
    "from keras.layers import Dense,LSTM,TimeDistributed\n",
    "from keras.optimizers import Adam"
   ]
  },
  {
   "cell_type": "code",
   "execution_count": 10,
   "metadata": {},
   "outputs": [],
   "source": [
    "BATCH_START = 0\n",
    "BATCH_SIZE = 50\n",
    "BATCH_INDEX = 0\n",
    "TIME_STEPS = 20\n",
    "INPUT_SIZE = 1\n",
    "OUTPUT_SIZE = 1\n",
    "CELL_SIZE = 20\n",
    "LR = 0.001"
   ]
  },
  {
   "cell_type": "code",
   "execution_count": 11,
   "metadata": {},
   "outputs": [],
   "source": [
    "def get_batch():\n",
    "    global BATCH_START, TIME_STEPS\n",
    "    # xs shape (50batch, 20steps)\n",
    "    xs = np.arange(BATCH_START, BATCH_START+TIME_STEPS*BATCH_SIZE).reshape((BATCH_SIZE, TIME_STEPS)) / (10*np.pi)\n",
    "    seq = np.sin(xs)\n",
    "    res = np.cos(xs)\n",
    "    BATCH_START += TIME_STEPS\n",
    "    # plt.plot(xs[0, :], res[0, :], 'r', xs[0, :], seq[0, :], 'b--')\n",
    "    # plt.show()\n",
    "    return [seq[:, :, np.newaxis], res[:, :, np.newaxis], xs]"
   ]
  },
  {
   "cell_type": "code",
   "execution_count": 12,
   "metadata": {},
   "outputs": [],
   "source": [
    "model = Sequential()\n",
    "model.add(LSTM(units=CELL_SIZE,batch_input_shape=(BATCH_SIZE,TIME_STEPS,INPUT_SIZE),return_sequences=True,stateful=True))\n",
    "model.add(TimeDistributed(Dense(OUTPUT_SIZE)))"
   ]
  },
  {
   "cell_type": "code",
   "execution_count": 13,
   "metadata": {},
   "outputs": [],
   "source": [
    "adam = Adam()\n",
    "model.compile(optimizer=adam,loss='mse')"
   ]
  },
  {
   "cell_type": "code",
   "execution_count": 14,
   "metadata": {},
   "outputs": [
    {
     "name": "stdout",
     "output_type": "stream",
     "text": [
      "---------- training ----------\n",
      "train cost: 0.5094064\n",
      "train cost: 0.49700072\n",
      "train cost: 0.48098484\n",
      "train cost: 0.45733532\n",
      "train cost: 0.41198325\n",
      "train cost: 0.31616372\n",
      "train cost: 0.12780112\n",
      "train cost: 0.07202451\n",
      "train cost: 0.100845575\n",
      "train cost: 0.045080528\n",
      "train cost: 0.059949923\n",
      "train cost: 0.039457135\n",
      "train cost: 0.05299389\n",
      "train cost: 0.11020091\n",
      "train cost: 0.19632812\n",
      "train cost: 0.15197606\n",
      "train cost: 0.15573055\n",
      "train cost: 0.18436068\n",
      "train cost: 0.17716804\n",
      "train cost: 0.19106063\n",
      "train cost: 0.20349777\n",
      "train cost: 0.24818364\n",
      "train cost: 0.16032429\n",
      "train cost: 0.22808765\n",
      "train cost: 0.18079749\n",
      "train cost: 0.12189113\n",
      "train cost: 0.17710929\n",
      "train cost: 0.14985809\n",
      "train cost: 0.10625985\n",
      "train cost: 0.10845499\n",
      "train cost: 0.11093773\n",
      "train cost: 0.07976766\n",
      "train cost: 0.07055531\n",
      "train cost: 0.08459128\n",
      "train cost: 0.06621983\n",
      "train cost: 0.13701326\n",
      "train cost: 0.096228115\n",
      "train cost: 0.08548676\n",
      "train cost: 0.066123724\n",
      "train cost: 0.060449135\n",
      "train cost: 0.055428613\n",
      "train cost: 0.037225395\n",
      "train cost: 0.03649761\n",
      "train cost: 0.0412408\n",
      "train cost: 0.11502667\n",
      "train cost: 0.13110176\n",
      "train cost: 0.064091355\n",
      "train cost: 0.044157486\n",
      "train cost: 0.037843704\n",
      "train cost: 0.03609926\n"
     ]
    }
   ],
   "source": [
    "print('-'*10,'training','-'*10)\n",
    "for step in range(500):\n",
    "\tX_batch,Y_batch,xs = get_batch()\n",
    "\tcost = model.train_on_batch(X_batch,Y_batch)\n",
    "\tpred = model.predict(X_batch,BATCH_SIZE)\n",
    "# \tplt.plot(xs[0,:],Y_batch[0].flatten(),'r',xs[0,:],\n",
    "# \t         pred.flatten()[:TIME_STEPS],'b--')\n",
    "# \tplt.ylim((-1.2,1.2))\n",
    "# \tplt.draw()\n",
    "# \tplt.pause(0.5)\n",
    "\tif step % 10 == 0:\n",
    "\t\tprint(\"train cost:\",cost)"
   ]
  },
  {
   "cell_type": "code",
   "execution_count": null,
   "metadata": {},
   "outputs": [],
   "source": []
  }
 ],
 "metadata": {
  "kernelspec": {
   "display_name": "Python 3",
   "language": "python",
   "name": "python3"
  },
  "language_info": {
   "codemirror_mode": {
    "name": "ipython",
    "version": 3
   },
   "file_extension": ".py",
   "mimetype": "text/x-python",
   "name": "python",
   "nbconvert_exporter": "python",
   "pygments_lexer": "ipython3",
   "version": "3.6.5"
  }
 },
 "nbformat": 4,
 "nbformat_minor": 1
}
